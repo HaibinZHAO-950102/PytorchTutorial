{
 "cells": [
  {
   "cell_type": "markdown",
   "id": "b0ccf12b",
   "metadata": {},
   "source": [
    "# 数据的预处理\n",
    "数据往往需要预先的处理，才能更好的用于神经网络的训练。"
   ]
  },
  {
   "cell_type": "markdown",
   "id": "cbc7b686",
   "metadata": {},
   "source": [
    "## One-Hot Encoding\n",
    "正如上述所说，如果是定性的数据，往往"
   ]
  },
  {
   "cell_type": "code",
   "execution_count": null,
   "id": "a9f5c58a",
   "metadata": {},
   "outputs": [],
   "source": [
    "d"
   ]
  },
  {
   "cell_type": "code",
   "execution_count": null,
   "id": "17ab6e1f",
   "metadata": {},
   "outputs": [],
   "source": []
  },
  {
   "cell_type": "code",
   "execution_count": null,
   "id": "99bc9e69",
   "metadata": {},
   "outputs": [],
   "source": []
  },
  {
   "cell_type": "code",
   "execution_count": 9,
   "id": "eb17046b",
   "metadata": {},
   "outputs": [
    {
     "name": "stdout",
     "output_type": "stream",
     "text": [
      "Dataset \"Pendigits\" has 16 input features and 10 classes.\n",
      "There are 6595 training examples, 2198 valid examples, and 2199 test examples in the dataset.\n",
      "\n"
     ]
    }
   ],
   "source": [
    "import pickle\n",
    "import os\n",
    "\n",
    "datasets = os.listdir('./others/datasets/')\n",
    "datasets = [f for f in datasets if (f.startswith('Dataset') and f.endswith('.p'))]\n",
    "datasets.sort()\n",
    "\n",
    "datapath = os.path.join(f'./others/datasets/{datasets[20]}')\n",
    "with open(datapath, 'rb') as f:\n",
    "    data = pickle.load(f)\n",
    "X_train    = data['X_train']\n",
    "y_train    = data['y_train']\n",
    "X_valid    = data['X_valid']\n",
    "y_valid    = data['y_valid']\n",
    "X_test     = data['X_test']\n",
    "y_test     = data['y_test']\n",
    "data_name  = data['name']\n",
    "\n",
    "N_class    = data['n_class']\n",
    "N_feature  = data['n_feature']\n",
    "N_train    = X_train.shape[0]\n",
    "N_valid    = X_valid.shape[0]\n",
    "N_test     = X_test.shape[0]\n",
    "\n",
    "print(f'Dataset \"{data_name}\" has {N_feature} input features and {N_class} classes.\\nThere are {N_train} training examples, {N_valid} valid examples, and {N_test} test examples in the dataset.\\n')"
   ]
  },
  {
   "cell_type": "code",
   "execution_count": null,
   "id": "e73a3d16",
   "metadata": {},
   "outputs": [],
   "source": []
  }
 ],
 "metadata": {
  "kernelspec": {
   "display_name": "Python 3",
   "language": "python",
   "name": "python3"
  },
  "language_info": {
   "codemirror_mode": {
    "name": "ipython",
    "version": 3
   },
   "file_extension": ".py",
   "mimetype": "text/x-python",
   "name": "python",
   "nbconvert_exporter": "python",
   "pygments_lexer": "ipython3",
   "version": "3.8.9"
  },
  "toc": {
   "base_numbering": 1,
   "nav_menu": {},
   "number_sections": true,
   "sideBar": true,
   "skip_h1_title": false,
   "title_cell": "Table of Contents",
   "title_sidebar": "Contents",
   "toc_cell": false,
   "toc_position": {},
   "toc_section_display": true,
   "toc_window_display": false
  }
 },
 "nbformat": 4,
 "nbformat_minor": 5
}
