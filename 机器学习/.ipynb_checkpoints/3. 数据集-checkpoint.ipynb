{
 "cells": [
  {
   "cell_type": "markdown",
   "id": "b0ccf12b",
   "metadata": {},
   "source": [
    "# 数据集\n",
    "在之前的部分，我们都用的是简单的数据，也就是："
   ]
  },
  {
   "cell_type": "code",
   "execution_count": 3,
   "id": "fedce010",
   "metadata": {},
   "outputs": [
    {
     "name": "stdout",
     "output_type": "stream",
     "text": [
      "tensor([[0.2000, 0.5000, 0.7000],\n",
      "        [0.4000, 0.6000, 0.8000],\n",
      "        [0.3000, 0.6000, 0.9000]])\n",
      "tensor([[0.8000, 0.8000],\n",
      "        [0.7000, 0.9000],\n",
      "        [0.9000, 0.9000]])\n"
     ]
    }
   ],
   "source": [
    "import torch\n",
    "X = torch.tensor([0.2, 0.5, 0.7, 0.4, 0.6, 0.8, 0.3, 0.6, 0.9]).view(3,3)\n",
    "Y = torch.tensor([0.8, 0.8, 0.7, 0.9, 0.9, 0.9]).view(3,2)\n",
    "print(X)\n",
    "print(Y)"
   ]
  },
  {
   "cell_type": "markdown",
   "id": "a8078ec9",
   "metadata": {},
   "source": [
    "也就是一共有$E=3$个数据，每个数据有$M=3$个输入特征和$N=2$个目标数据。这个{X,Y}就是一个数据集。\n",
    "\n",
    "然而在大数据时代，数据的个数可能成千上万甚至数百万，数据的特征也可能有几十个甚至几百个。我们不可能手动输入这些数据，至少不可能轻易的输入这些数据。而且这些数据往往都是直接从传感器纪录在文档里面，因此可以相对容易的调用。在这一点上，科研和工业有相当大的区别：\n",
    "* 科研：科研的目的往往是设计新的模型，因此，为了体现模型的优越性并且增加实验的说服力，模型必须在一些公认的、著名的数据集上测试。（由于数据集难度的不同，如果自己找一些简单的数据集，结果就不具备和其他工作的可比性。）因此，科研用的数据集往往比较容易获得，而且比较容易使用。一般来说从网上下载下来，用几行代码就可以读取并且使用。比较著名的数据集网站是https://archive.ics.uci.edu/ml/datasets.php\n",
    "* 工业：工业上的数据质量往往不堪入目。例如一个机器需要用50个传感器来判断机器的运行状态，一共需要采集10000个数据，也就是说，理想情况下$X$是一个$10000\\times 50$的矩阵。然而在现实中会出现以下问题：\n",
    " * 项目初期并不知道所需传感器的个数，许多初期采集的数据没有50个特征\n",
    " * 项目初期并不知道所需传感器安装的位置，许多初期采集的数据的安装位置都不一样（不是同一个特征）\n",
    " * 实际中安装传感器的位置不精确\n",
    " * 传感器在运行过程中损坏\n",
    " * 由于迭代，传感器类型（生产厂商、标准）不同\n",
    " * 记录文件丢失、重复\n",
    " * 数据没有存在一起，而是在不同的文件夹里  \n",
    " \n",
    "  在这种情况下，就要有大量的工作用于整理数据、筛选数据等等。所以绝大多数工业AI都会失败$^*$。\n",
    "  \n",
    "$^*$ Sculley, David, et al. \"Hidden technical debt in machine learning systems.\" Advances in neural information processing systems 28 (2015).\n",
    "\n",
    "$^*$ https://www.pacteraedge.com/pactera-white-paper-reveals-85-percent-ai-projects-ultimately-fail-0"
   ]
  },
  {
   "cell_type": "markdown",
   "id": "f2290ba9",
   "metadata": {},
   "source": [
    "当然，对于初学者，用一些已有的数据集就可以"
   ]
  },
  {
   "cell_type": "code",
   "execution_count": null,
   "id": "ac66d6e1",
   "metadata": {},
   "outputs": [],
   "source": []
  }
 ],
 "metadata": {
  "kernelspec": {
   "display_name": "Python 3",
   "language": "python",
   "name": "python3"
  },
  "language_info": {
   "codemirror_mode": {
    "name": "ipython",
    "version": 3
   },
   "file_extension": ".py",
   "mimetype": "text/x-python",
   "name": "python",
   "nbconvert_exporter": "python",
   "pygments_lexer": "ipython3",
   "version": "3.8.9"
  },
  "toc": {
   "base_numbering": 1,
   "nav_menu": {},
   "number_sections": true,
   "sideBar": true,
   "skip_h1_title": false,
   "title_cell": "Table of Contents",
   "title_sidebar": "Contents",
   "toc_cell": false,
   "toc_position": {},
   "toc_section_display": true,
   "toc_window_display": false
  }
 },
 "nbformat": 4,
 "nbformat_minor": 5
}
