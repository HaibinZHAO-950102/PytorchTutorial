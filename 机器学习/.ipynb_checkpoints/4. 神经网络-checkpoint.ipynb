{
 "cells": [
  {
   "cell_type": "markdown",
   "id": "c5eaaf36",
   "metadata": {},
   "source": [
    "# 神经网络"
   ]
  },
  {
   "cell_type": "markdown",
   "id": "43a19110",
   "metadata": {},
   "source": []
  },
  {
   "cell_type": "markdown",
   "id": "f15fc837",
   "metadata": {},
   "source": [
    "## 什么是神经网络"
   ]
  },
  {
   "cell_type": "markdown",
   "id": "a3773a5c",
   "metadata": {},
   "source": []
  },
  {
   "cell_type": "markdown",
   "id": "6345a8fa",
   "metadata": {},
   "source": [
    "## 为什么神经网络变得热门"
   ]
  },
  {
   "cell_type": "markdown",
   "id": "2a204479",
   "metadata": {},
   "source": []
  },
  {
   "cell_type": "markdown",
   "id": "152f1f49",
   "metadata": {},
   "source": [
    "# 神经网络中研究的内容"
   ]
  },
  {
   "cell_type": "markdown",
   "id": "f33cfd19",
   "metadata": {},
   "source": []
  },
  {
   "cell_type": "markdown",
   "id": "567b1992",
   "metadata": {},
   "source": []
  }
 ],
 "metadata": {
  "kernelspec": {
   "display_name": "Python 3",
   "language": "python",
   "name": "python3"
  },
  "language_info": {
   "codemirror_mode": {
    "name": "ipython",
    "version": 3
   },
   "file_extension": ".py",
   "mimetype": "text/x-python",
   "name": "python",
   "nbconvert_exporter": "python",
   "pygments_lexer": "ipython3",
   "version": "3.8.9"
  },
  "toc": {
   "base_numbering": 1,
   "nav_menu": {},
   "number_sections": true,
   "sideBar": true,
   "skip_h1_title": false,
   "title_cell": "Table of Contents",
   "title_sidebar": "Contents",
   "toc_cell": false,
   "toc_position": {},
   "toc_section_display": true,
   "toc_window_display": false
  }
 },
 "nbformat": 4,
 "nbformat_minor": 5
}
