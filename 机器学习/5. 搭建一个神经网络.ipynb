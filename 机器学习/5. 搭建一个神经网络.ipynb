{
 "cells": [
  {
   "cell_type": "markdown",
   "id": "51d268d3",
   "metadata": {},
   "source": [
    "# 搭建一个神经网络\n",
    "这一部分会不用PyTorch搭建一个神经网络并训练它。但是为了代码的简洁，我们会用到Numpy模块用于基本的矩阵计算。"
   ]
  },
  {
   "cell_type": "markdown",
   "id": "4f8cae42",
   "metadata": {},
   "source": [
    "## 数据集\n",
    "正如之前说的，我们直接导入一个数据集(本文用Pendigits数据集为例)"
   ]
  },
  {
   "cell_type": "code",
   "execution_count": 5,
   "id": "62901668",
   "metadata": {},
   "outputs": [
    {
     "name": "stdout",
     "output_type": "stream",
     "text": [
      "Dataset \"Pendigits\" has 16 input features and 10 classes.\n",
      "There are 6595 training examples, 2198 valid examples, and 2199 test examples in the dataset.\n",
      "\n"
     ]
    }
   ],
   "source": [
    "import pickle\n",
    "import os\n",
    "datasets = os.listdir('./others/datasets/')\n",
    "datasets = [f for f in datasets if (f.startswith('Dataset') and f.endswith('.p'))]\n",
    "datasets.sort()\n",
    "datapath = os.path.join(f'./others/datasets/{datasets[20]}')\n",
    "with open(datapath, 'rb') as f:\n",
    "    data = pickle.load(f)\n",
    "X_train    = data['X_train']\n",
    "y_train    = data['y_train']\n",
    "X_valid    = data['X_valid']\n",
    "y_valid    = data['y_valid']\n",
    "X_test     = data['X_test']\n",
    "y_test     = data['y_test']\n",
    "data_name  = data['name']\n",
    "\n",
    "N_class    = data['n_class']\n",
    "N_feature  = data['n_feature']\n",
    "N_train    = X_train.shape[0]\n",
    "N_valid    = X_valid.shape[0]\n",
    "N_test     = X_test.shape[0]\n",
    "\n",
    "print(f'Dataset \"{data_name}\" has {N_feature} input features and {N_class} classes.\\nThere are {N_train} training examples, {N_valid} valid examples, and {N_test} test examples in the dataset.\\n')"
   ]
  },
  {
   "cell_type": "markdown",
   "id": "9ffede52",
   "metadata": {},
   "source": [
    "## 定义基本计算"
   ]
  },
  {
   "cell_type": "markdown",
   "id": "9eb13dec",
   "metadata": {},
   "source": [
    "加权求和：为了完善的展现反向传播的计算，我们这里不把权重$W$和偏差$b$合并，然后再把$X$扩展一列。"
   ]
  },
  {
   "cell_type": "code",
   "execution_count": 6,
   "id": "6fa2246a",
   "metadata": {},
   "outputs": [],
   "source": [
    "def LinearForward(A, W, b):\n",
    "    return np.dot(W, A) + b"
   ]
  },
  {
   "cell_type": "markdown",
   "id": "7223f912",
   "metadata": {},
   "source": [
    "激活函数：这里定义了2种激活函数"
   ]
  },
  {
   "cell_type": "code",
   "execution_count": 7,
   "id": "e97ca418",
   "metadata": {},
   "outputs": [],
   "source": [
    "def Activation(Z, activation):\n",
    "    if activation == 'relu':\n",
    "        A = np.maximum(Z, 0)\n",
    "    if activation == 'sigmoid':\n",
    "        A = 1 / (1 + np.exp(-Z))\n",
    "    return A"
   ]
  },
  {
   "cell_type": "markdown",
   "id": "136eb06c",
   "metadata": {},
   "source": []
  }
 ],
 "metadata": {
  "kernelspec": {
   "display_name": "ML",
   "language": "python",
   "name": "ml"
  },
  "language_info": {
   "codemirror_mode": {
    "name": "ipython",
    "version": 3
   },
   "file_extension": ".py",
   "mimetype": "text/x-python",
   "name": "python",
   "nbconvert_exporter": "python",
   "pygments_lexer": "ipython3",
   "version": "3.8.13"
  },
  "toc": {
   "base_numbering": 1,
   "nav_menu": {},
   "number_sections": true,
   "sideBar": true,
   "skip_h1_title": false,
   "title_cell": "Table of Contents",
   "title_sidebar": "Contents",
   "toc_cell": false,
   "toc_position": {},
   "toc_section_display": true,
   "toc_window_display": false
  }
 },
 "nbformat": 4,
 "nbformat_minor": 5
}
