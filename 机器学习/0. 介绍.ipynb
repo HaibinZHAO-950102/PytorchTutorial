{
 "cells": [
  {
   "cell_type": "markdown",
   "id": "5bc358f1",
   "metadata": {},
   "source": [
    "# 什么是机器学习"
   ]
  },
  {
   "cell_type": "markdown",
   "id": "f5ac9d66",
   "metadata": {},
   "source": [
    "机器学习现阶段指的是一种数据驱动（data-driven）的学习方式。数据驱动的学习指的是通过**给定的输入数据**和**期望获得的输出数据**来设计一个模型（模型可以被理解为是一个计算过程/推理方法）。这个模型可以通过输入的数据算出尽可能准确的输出的数据。\n",
    "> 举例：通过一个人的运动量、饮食健康程度来推算一个人的寿命。这个过程中**运动量**和**饮食健康程度**就应该是输入数据，**真实的寿命**就是正确的结果，**推算出来的寿命**就是模型的输出。设计（或优化/训练）这个模型指的就是通过改变模型的某些参数，使得模型的输出尽可能接近真实值。\n",
    "\n",
    "可以看出，要训练一个模型，必须要有可供训练的数据，这就是**数据集**。换句话说，机器学习就是从已有的数据中找到规律。\n",
    "\n",
    "相比之下，传统的方法很多都不是数据驱动，例如信号处理中的傅立叶变换的提出就不依赖任何数据。因此，机器学习往往会比传统方法更具有“针对性”，也就是说，机器学习模型对于给定数据有更好的表现，但是传统方法具有更好的普适性。因此，当给定的训练数据数量少且不具有代表性的时候，机器学习模型就会有很多局限性。但是当训练很多且具有代表性的时候，机器学习就会超过传统的方法。随着传感器的普及、硬件算力的增加，可以被收集和处理的数据越来越多，这也就是为什么近年来机器学习逐渐占据主导。\n"
   ]
  },
  {
   "cell_type": "markdown",
   "id": "e12ac3d1",
   "metadata": {},
   "source": [
    "# 数学语言"
   ]
  },
  {
   "cell_type": "markdown",
   "id": "738bde8b",
   "metadata": {},
   "source": [
    "机器学习模型的数学描述如下：\n",
    "* 已知\n",
    " - 输入数据 $\\boldsymbol{x}_i\\in\\mathbb{R}^{M},\\ i=1,2,...,E$\n",
    " - 目标数据 $\\boldsymbol{y}_i\\in\\mathbb{R}^{N},\\ i=1,2,...,E$\n",
    " - 机器学习模型 $f_{\\boldsymbol{w}}(\\cdot):\\ \\mathbb{R}^M\\mapsto\\mathbb{R}^N$\n",
    " \n",
    "  其中$i=1,...,E$表示一共有$E$个训练实例（Example），或者叫$E$个采样点。每一个采样点有$M$个特征。对于每个实例，我们想利用特征来计算$N$个值。计算的过程用$f_w(\\cdot)$来表示，其中$w$就是需要被训练/设计的模型参数。\n",
    " \n",
    "* 优化目标\n",
    "$$\n",
    "\\mathop{\\rm minimize}_{\\boldsymbol{w}}\\ \\ \\sum_i\\mathcal{L}\\{f_\\boldsymbol{w}(\\boldsymbol{x}_i)-\\boldsymbol{y}_i\\}\n",
    "$$\n",
    "   其中$\\mathcal{L}\\{\\cdot\\}$表示的是损失函数（loss function），用来衡量模型输出和真实值之间的差别，最直观的loss function就是$|f_\\boldsymbol{w}(\\boldsymbol{x}_i)-\\boldsymbol{y}_i|$，用差值的绝对值来表示差别。当然比如$(f_\\boldsymbol{w}(\\boldsymbol{x}_i)-\\boldsymbol{y}_i)^2$也可以实现类似的功能。通常的loss function多种多样，有时也可以自己设计。但是最终的目标是让模型的输出尽可能等于真实值。"
   ]
  },
  {
   "cell_type": "markdown",
   "id": "046cc2fb",
   "metadata": {},
   "source": [
    "> 举例：我们想通过一个人的运动量$x_1$，饮食健康程度$x_2$，以及睡眠时长$x_3$来估计一个人的血糖$y_1$和血压$y_2$。为了实现这个目的，我们暂时用最简单的加权乘法来计算，也就是\n",
    "$$\n",
    "\\begin{aligned}\n",
    "\\hat{y}_1=w_{11} x_1+w_{12}x_2+w_{13}x_3\\\\\n",
    "\\hat{y}_2=w_{21} x_1+w_{22}x_2+w_{23}x_3\n",
    "\\end{aligned}\n",
    "$$\n",
    "可以简化成\n",
    "$$\n",
    "\\begin{equation*}\n",
    "\\underbrace{\n",
    "\\begin{bmatrix} \\hat{y}_1\\\\ \\hat{y}_2 \\end{bmatrix}}_{\\hat{\\boldsymbol{y}}}\n",
    "=\n",
    "\\underbrace{\\begin{bmatrix} w_{11}&w_{12}&w_{12}\\\\ w_{21}&w_{22}&w_{23} \\end{bmatrix}}_{W}\n",
    "\\cdot\n",
    "\\underbrace{\\begin{bmatrix} x_1\\\\ x_2\\\\x_3 \\end{bmatrix}}_{\\boldsymbol{x}}\n",
    "\\end{equation*}\n",
    "$$\n",
    "简写为$\\hat{\\boldsymbol{y}}=W\\cdot \\boldsymbol{x}$。这里$\\hat{(\\cdot)}$表示通过模型的估计值，也就是说$\\hat{\\boldsymbol{y}}=f_\\boldsymbol{w}(\\boldsymbol{x})=W\\cdot \\boldsymbol{x}$。进而，我们的目标就是找到合适的$\\boldsymbol{w}$，使得$\\hat{\\boldsymbol{y}}$尽可能接近$\\boldsymbol{y}$，也就是解决一个优化问题，这个优化过程往往通过数值方法实现，后面会具体解释。  \n",
    "如果我们希望这个模型$f$能够对每个人（或者说大多数人）都有效，那么我们需要收集若干人（$E$个人）的真实数据$(\\boldsymbol{x_1},\\boldsymbol{y}_1),....,(\\boldsymbol{x}_E,\\boldsymbol{y}_E)$，然后优化$\\boldsymbol{w}$，使得模型对每个训练数据都有好的表现。（这里的表现体现在loss function上）。  \n",
    "**请注意区分$x_i$和$\\boldsymbol{x}_i$**。"
   ]
  },
  {
   "cell_type": "markdown",
   "id": "50501fc4",
   "metadata": {},
   "source": [
    "# 机器学习的应用\n",
    "当我们找到一个$\\boldsymbol{w}$，使得我们能够准确的用$\\boldsymbol{x}$来估计$\\boldsymbol{y}$的时候，我们就可以用这个机器学习模型来处理问题了。在现实中，机器学习在很多领域都有应用，例如\n",
    "* 在机器视觉中，$\\boldsymbol{x}$是往往图片信息，$\\boldsymbol{y}$可以是图片的分类，例如猫、狗、人等等\n",
    "* 在自然语言处理中，$\\boldsymbol{x}$是往往单词序列，$\\boldsymbol{y}$可以是另一种语言（翻译），一种语气等等\n",
    "\n",
    "除此之外，机器学习还有很多广阔的应用。一般来说$\\boldsymbol{x}$是容易采集的信息，而$\\boldsymbol{y}$是不容易测量的量。只要能训练一个模型可以从$\\boldsymbol{x}$换算成$\\boldsymbol{y}$，那么人们就可以很容易的估计出本来很难测量的值了。"
   ]
  },
  {
   "cell_type": "code",
   "execution_count": null,
   "id": "93c30da6",
   "metadata": {},
   "outputs": [],
   "source": []
  }
 ],
 "metadata": {
  "kernelspec": {
   "display_name": "ML",
   "language": "python",
   "name": "ml"
  },
  "language_info": {
   "codemirror_mode": {
    "name": "ipython",
    "version": 3
   },
   "file_extension": ".py",
   "mimetype": "text/x-python",
   "name": "python",
   "nbconvert_exporter": "python",
   "pygments_lexer": "ipython3",
   "version": "3.8.13"
  },
  "toc": {
   "base_numbering": 1,
   "nav_menu": {},
   "number_sections": true,
   "sideBar": true,
   "skip_h1_title": false,
   "title_cell": "Table of Contents",
   "title_sidebar": "Contents",
   "toc_cell": false,
   "toc_position": {},
   "toc_section_display": true,
   "toc_window_display": false
  }
 },
 "nbformat": 4,
 "nbformat_minor": 5
}
