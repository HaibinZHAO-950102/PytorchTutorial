{
 "cells": [
  {
   "cell_type": "markdown",
   "id": "2dbf6309",
   "metadata": {},
   "source": [
    "# Import necessary packages"
   ]
  },
  {
   "cell_type": "code",
   "execution_count": 3,
   "id": "0aa5321d",
   "metadata": {},
   "outputs": [],
   "source": [
    "import pickle\n",
    "import os"
   ]
  },
  {
   "cell_type": "markdown",
   "id": "946ec423",
   "metadata": {},
   "source": [
    "# Load datasets"
   ]
  },
  {
   "cell_type": "markdown",
   "id": "7eadf514",
   "metadata": {},
   "source": [
    "## list all datasets"
   ]
  },
  {
   "cell_type": "code",
   "execution_count": 6,
   "id": "7fb53e9a",
   "metadata": {},
   "outputs": [
    {
     "data": {
      "text/plain": [
       "['Dataset_acutenephritis.p',\n",
       " 'Dataset_mammographic.p',\n",
       " 'Dataset_habermansurvival.p',\n",
       " 'Dataset_pittsburgbridgesMATERIAL.p',\n",
       " 'Dataset_energyy2.p',\n",
       " 'Dataset_postoperative.p',\n",
       " 'Dataset_teaching.p',\n",
       " 'Dataset_breastcancer.p',\n",
       " 'Dataset_fertility.p',\n",
       " 'Dataset_ilpdindianliver.p',\n",
       " 'Dataset_pittsburgbridgesRELL.p',\n",
       " 'Dataset_pittsburgbridgesSPAN.p',\n",
       " 'Dataset_pima.p',\n",
       " 'Dataset_monks3.p',\n",
       " 'Dataset_acuteinflammation.p',\n",
       " 'Dataset_energyy1.p',\n",
       " 'Dataset_blood.p',\n",
       " 'Dataset_tictactoe.p',\n",
       " 'Dataset_iris.p',\n",
       " 'Dataset_seeds.p',\n",
       " 'Dataset_pittsburgbridgesTORD.p',\n",
       " 'Dataset_hayesroth.p',\n",
       " 'Dataset_monks2.p',\n",
       " 'Dataset_pittsburgbridgesTYPE.p',\n",
       " 'Dataset_ecoli.p',\n",
       " 'Dataset_balancescale.p',\n",
       " 'Dataset_vertebralcolumn2clases.p',\n",
       " 'Dataset_breastcancerwisc.p',\n",
       " 'Dataset_vertebralcolumn3clases.p',\n",
       " 'Dataset_breasttissue.p',\n",
       " 'Dataset_glass.p',\n",
       " 'Dataset_monks1.p']"
      ]
     },
     "execution_count": 6,
     "metadata": {},
     "output_type": "execute_result"
    }
   ],
   "source": [
    "datasets = os.listdir()\n",
    "datasets = [f for f in datasets if (f.startswith('Dataset') and f.endswith('.p'))]\n",
    "datasets"
   ]
  },
  {
   "cell_type": "markdown",
   "id": "98d3bf5b",
   "metadata": {},
   "source": [
    "## Load a dataset"
   ]
  },
  {
   "cell_type": "code",
   "execution_count": 8,
   "id": "bd0b3721",
   "metadata": {},
   "outputs": [],
   "source": [
    "datapath = os.path.join('./Dataset_seeds.p')\n",
    "with open(datapath, 'rb') as f:\n",
    "    data = pickle.load(f)\n",
    "X_train    = data['X_train']\n",
    "y_train    = data['y_train']\n",
    "X_valid    = data['X_valid']\n",
    "y_valid    = data['y_valid']\n",
    "X_test     = data['X_test']\n",
    "y_test     = data['y_test']\n",
    "data_name  = data['name']\n",
    "\n",
    "N_class    = data['n_class']\n",
    "N_feature  = data['n_feature']\n",
    "N_train    = X_train.shape[0]\n",
    "N_valid    = X_valid.shape[0]\n",
    "N_test     = X_test.shape[0]"
   ]
  },
  {
   "cell_type": "code",
   "execution_count": 12,
   "id": "bd52a9db",
   "metadata": {},
   "outputs": [
    {
     "name": "stdout",
     "output_type": "stream",
     "text": [
      "Dataset \"seeds\" has 7 input features and 3 classes.\n",
      "There are 124 training examples, 41 valid examples, and 43 test examples in the dataset.\n"
     ]
    }
   ],
   "source": [
    "print(f'Dataset \"{data_name}\" has {N_feature} input features and {N_class} classes.\\nThere are {N_train} training examples, {N_valid} valid examples, and {N_test} test examples in the dataset.')"
   ]
  },
  {
   "cell_type": "code",
   "execution_count": null,
   "id": "727e4b4e",
   "metadata": {},
   "outputs": [],
   "source": []
  }
 ],
 "metadata": {
  "kernelspec": {
   "display_name": "ML",
   "language": "python",
   "name": "ml"
  },
  "language_info": {
   "codemirror_mode": {
    "name": "ipython",
    "version": 3
   },
   "file_extension": ".py",
   "mimetype": "text/x-python",
   "name": "python",
   "nbconvert_exporter": "python",
   "pygments_lexer": "ipython3",
   "version": "3.8.13"
  },
  "toc": {
   "base_numbering": 1,
   "nav_menu": {},
   "number_sections": true,
   "sideBar": true,
   "skip_h1_title": false,
   "title_cell": "Table of Contents",
   "title_sidebar": "Contents",
   "toc_cell": false,
   "toc_position": {},
   "toc_section_display": true,
   "toc_window_display": false
  }
 },
 "nbformat": 4,
 "nbformat_minor": 5
}
